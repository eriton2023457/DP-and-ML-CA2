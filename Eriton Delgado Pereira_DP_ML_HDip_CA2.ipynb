{
 "cells": [
  {
   "cell_type": "markdown",
   "id": "68c7b34c",
   "metadata": {},
   "source": [
    "### IMPORTING LIBRARIES ###\n",
    "To start the project, we are going to import the libraries that I will use here, (Note, probably I will beback here and add more libraries according to my research and development)"
   ]
  },
  {
   "cell_type": "code",
   "execution_count": 67,
   "id": "1a1d6e04",
   "metadata": {},
   "outputs": [],
   "source": [
    "import matplotlib.pyplot as plt\n",
    "%matplotlib inline\n",
    "\n",
    "import pandas as pd \n",
    "from sklearn.model_selection import train_test_split\n",
    "from sklearn.preprocessing import StandardScaler\n",
    "\n",
    "import numpy as np"
   ]
  },
  {
   "cell_type": "code",
   "execution_count": 2,
   "id": "cd09300e",
   "metadata": {},
   "outputs": [],
   "source": [
    "#Importing warnings to ignore and filter it\n",
    "import warnings\n",
    "warnings.filterwarnings('ignore')"
   ]
  },
  {
   "cell_type": "markdown",
   "id": "c2e475fe",
   "metadata": {},
   "source": [
    "### IMPORTING THE DATASET ###\n",
    "On this step we will import the dataset, called NHANES_age_prediction.csv which will be explored in this project."
   ]
  },
  {
   "cell_type": "code",
   "execution_count": 6,
   "id": "d25e6377",
   "metadata": {},
   "outputs": [],
   "source": [
    "df = pd.read_csv('NHANES_age_prediction.csv')"
   ]
  },
  {
   "cell_type": "markdown",
   "id": "d7390253",
   "metadata": {},
   "source": [
    "### DATASET OVERVIEW\n",
    "Om this step we are going to overview the dataset in order to understand it better.\n",
    "\n"
   ]
  },
  {
   "cell_type": "markdown",
   "id": "9b92f378",
   "metadata": {},
   "source": [
    "Checking the struture of the dataset"
   ]
  },
  {
   "cell_type": "code",
   "execution_count": 9,
   "id": "35c65959",
   "metadata": {},
   "outputs": [
    {
     "name": "stdout",
     "output_type": "stream",
     "text": [
      "<class 'pandas.core.frame.DataFrame'>\n",
      "RangeIndex: 2278 entries, 0 to 2277\n",
      "Data columns (total 10 columns):\n",
      " #   Column     Non-Null Count  Dtype  \n",
      "---  ------     --------------  -----  \n",
      " 0   SEQN       2278 non-null   float64\n",
      " 1   age_group  2278 non-null   object \n",
      " 2   RIDAGEYR   2278 non-null   float64\n",
      " 3   RIAGENDR   2278 non-null   float64\n",
      " 4   PAQ605     2278 non-null   float64\n",
      " 5   BMXBMI     2278 non-null   float64\n",
      " 6   LBXGLU     2278 non-null   float64\n",
      " 7   DIQ010     2278 non-null   float64\n",
      " 8   LBXGLT     2278 non-null   float64\n",
      " 9   LBXIN      2278 non-null   float64\n",
      "dtypes: float64(9), object(1)\n",
      "memory usage: 178.1+ KB\n"
     ]
    }
   ],
   "source": [
    "df.info()"
   ]
  },
  {
   "cell_type": "markdown",
   "id": "ae15ebf6",
   "metadata": {},
   "source": [
    "Note: Above we can see that the column \"age_group\" is dtype = object, in order to apply PCA  later, and  we will need to convert it to a numeric value"
   ]
  },
  {
   "cell_type": "code",
   "execution_count": 7,
   "id": "9ceceed2",
   "metadata": {},
   "outputs": [
    {
     "data": {
      "text/html": [
       "<div>\n",
       "<style scoped>\n",
       "    .dataframe tbody tr th:only-of-type {\n",
       "        vertical-align: middle;\n",
       "    }\n",
       "\n",
       "    .dataframe tbody tr th {\n",
       "        vertical-align: top;\n",
       "    }\n",
       "\n",
       "    .dataframe thead th {\n",
       "        text-align: right;\n",
       "    }\n",
       "</style>\n",
       "<table border=\"1\" class=\"dataframe\">\n",
       "  <thead>\n",
       "    <tr style=\"text-align: right;\">\n",
       "      <th></th>\n",
       "      <th>SEQN</th>\n",
       "      <th>age_group</th>\n",
       "      <th>RIDAGEYR</th>\n",
       "      <th>RIAGENDR</th>\n",
       "      <th>PAQ605</th>\n",
       "      <th>BMXBMI</th>\n",
       "      <th>LBXGLU</th>\n",
       "      <th>DIQ010</th>\n",
       "      <th>LBXGLT</th>\n",
       "      <th>LBXIN</th>\n",
       "    </tr>\n",
       "  </thead>\n",
       "  <tbody>\n",
       "    <tr>\n",
       "      <th>0</th>\n",
       "      <td>73564.0</td>\n",
       "      <td>Adult</td>\n",
       "      <td>61.0</td>\n",
       "      <td>2.0</td>\n",
       "      <td>2.0</td>\n",
       "      <td>35.7</td>\n",
       "      <td>110.0</td>\n",
       "      <td>2.0</td>\n",
       "      <td>150.0</td>\n",
       "      <td>14.91</td>\n",
       "    </tr>\n",
       "    <tr>\n",
       "      <th>1</th>\n",
       "      <td>73568.0</td>\n",
       "      <td>Adult</td>\n",
       "      <td>26.0</td>\n",
       "      <td>2.0</td>\n",
       "      <td>2.0</td>\n",
       "      <td>20.3</td>\n",
       "      <td>89.0</td>\n",
       "      <td>2.0</td>\n",
       "      <td>80.0</td>\n",
       "      <td>3.85</td>\n",
       "    </tr>\n",
       "    <tr>\n",
       "      <th>2</th>\n",
       "      <td>73576.0</td>\n",
       "      <td>Adult</td>\n",
       "      <td>16.0</td>\n",
       "      <td>1.0</td>\n",
       "      <td>2.0</td>\n",
       "      <td>23.2</td>\n",
       "      <td>89.0</td>\n",
       "      <td>2.0</td>\n",
       "      <td>68.0</td>\n",
       "      <td>6.14</td>\n",
       "    </tr>\n",
       "    <tr>\n",
       "      <th>3</th>\n",
       "      <td>73577.0</td>\n",
       "      <td>Adult</td>\n",
       "      <td>32.0</td>\n",
       "      <td>1.0</td>\n",
       "      <td>2.0</td>\n",
       "      <td>28.9</td>\n",
       "      <td>104.0</td>\n",
       "      <td>2.0</td>\n",
       "      <td>84.0</td>\n",
       "      <td>16.15</td>\n",
       "    </tr>\n",
       "    <tr>\n",
       "      <th>4</th>\n",
       "      <td>73580.0</td>\n",
       "      <td>Adult</td>\n",
       "      <td>38.0</td>\n",
       "      <td>2.0</td>\n",
       "      <td>1.0</td>\n",
       "      <td>35.9</td>\n",
       "      <td>103.0</td>\n",
       "      <td>2.0</td>\n",
       "      <td>81.0</td>\n",
       "      <td>10.92</td>\n",
       "    </tr>\n",
       "  </tbody>\n",
       "</table>\n",
       "</div>"
      ],
      "text/plain": [
       "      SEQN age_group  RIDAGEYR  RIAGENDR  PAQ605  BMXBMI  LBXGLU  DIQ010  \\\n",
       "0  73564.0     Adult      61.0       2.0     2.0    35.7   110.0     2.0   \n",
       "1  73568.0     Adult      26.0       2.0     2.0    20.3    89.0     2.0   \n",
       "2  73576.0     Adult      16.0       1.0     2.0    23.2    89.0     2.0   \n",
       "3  73577.0     Adult      32.0       1.0     2.0    28.9   104.0     2.0   \n",
       "4  73580.0     Adult      38.0       2.0     1.0    35.9   103.0     2.0   \n",
       "\n",
       "   LBXGLT  LBXIN  \n",
       "0   150.0  14.91  \n",
       "1    80.0   3.85  \n",
       "2    68.0   6.14  \n",
       "3    84.0  16.15  \n",
       "4    81.0  10.92  "
      ]
     },
     "execution_count": 7,
     "metadata": {},
     "output_type": "execute_result"
    }
   ],
   "source": [
    "df.head()"
   ]
  },
  {
   "cell_type": "code",
   "execution_count": 8,
   "id": "467ea7ab",
   "metadata": {},
   "outputs": [
    {
     "data": {
      "text/html": [
       "<div>\n",
       "<style scoped>\n",
       "    .dataframe tbody tr th:only-of-type {\n",
       "        vertical-align: middle;\n",
       "    }\n",
       "\n",
       "    .dataframe tbody tr th {\n",
       "        vertical-align: top;\n",
       "    }\n",
       "\n",
       "    .dataframe thead th {\n",
       "        text-align: right;\n",
       "    }\n",
       "</style>\n",
       "<table border=\"1\" class=\"dataframe\">\n",
       "  <thead>\n",
       "    <tr style=\"text-align: right;\">\n",
       "      <th></th>\n",
       "      <th>SEQN</th>\n",
       "      <th>age_group</th>\n",
       "      <th>RIDAGEYR</th>\n",
       "      <th>RIAGENDR</th>\n",
       "      <th>PAQ605</th>\n",
       "      <th>BMXBMI</th>\n",
       "      <th>LBXGLU</th>\n",
       "      <th>DIQ010</th>\n",
       "      <th>LBXGLT</th>\n",
       "      <th>LBXIN</th>\n",
       "    </tr>\n",
       "  </thead>\n",
       "  <tbody>\n",
       "    <tr>\n",
       "      <th>2273</th>\n",
       "      <td>83711.0</td>\n",
       "      <td>Adult</td>\n",
       "      <td>38.0</td>\n",
       "      <td>2.0</td>\n",
       "      <td>2.0</td>\n",
       "      <td>33.5</td>\n",
       "      <td>100.0</td>\n",
       "      <td>2.0</td>\n",
       "      <td>73.0</td>\n",
       "      <td>6.53</td>\n",
       "    </tr>\n",
       "    <tr>\n",
       "      <th>2274</th>\n",
       "      <td>83712.0</td>\n",
       "      <td>Adult</td>\n",
       "      <td>61.0</td>\n",
       "      <td>1.0</td>\n",
       "      <td>2.0</td>\n",
       "      <td>30.0</td>\n",
       "      <td>93.0</td>\n",
       "      <td>2.0</td>\n",
       "      <td>208.0</td>\n",
       "      <td>13.02</td>\n",
       "    </tr>\n",
       "    <tr>\n",
       "      <th>2275</th>\n",
       "      <td>83713.0</td>\n",
       "      <td>Adult</td>\n",
       "      <td>34.0</td>\n",
       "      <td>1.0</td>\n",
       "      <td>2.0</td>\n",
       "      <td>23.7</td>\n",
       "      <td>103.0</td>\n",
       "      <td>2.0</td>\n",
       "      <td>124.0</td>\n",
       "      <td>21.41</td>\n",
       "    </tr>\n",
       "    <tr>\n",
       "      <th>2276</th>\n",
       "      <td>83718.0</td>\n",
       "      <td>Adult</td>\n",
       "      <td>60.0</td>\n",
       "      <td>2.0</td>\n",
       "      <td>2.0</td>\n",
       "      <td>27.4</td>\n",
       "      <td>90.0</td>\n",
       "      <td>2.0</td>\n",
       "      <td>108.0</td>\n",
       "      <td>4.99</td>\n",
       "    </tr>\n",
       "    <tr>\n",
       "      <th>2277</th>\n",
       "      <td>83727.0</td>\n",
       "      <td>Adult</td>\n",
       "      <td>26.0</td>\n",
       "      <td>1.0</td>\n",
       "      <td>2.0</td>\n",
       "      <td>24.5</td>\n",
       "      <td>108.0</td>\n",
       "      <td>2.0</td>\n",
       "      <td>108.0</td>\n",
       "      <td>3.76</td>\n",
       "    </tr>\n",
       "  </tbody>\n",
       "</table>\n",
       "</div>"
      ],
      "text/plain": [
       "         SEQN age_group  RIDAGEYR  RIAGENDR  PAQ605  BMXBMI  LBXGLU  DIQ010  \\\n",
       "2273  83711.0     Adult      38.0       2.0     2.0    33.5   100.0     2.0   \n",
       "2274  83712.0     Adult      61.0       1.0     2.0    30.0    93.0     2.0   \n",
       "2275  83713.0     Adult      34.0       1.0     2.0    23.7   103.0     2.0   \n",
       "2276  83718.0     Adult      60.0       2.0     2.0    27.4    90.0     2.0   \n",
       "2277  83727.0     Adult      26.0       1.0     2.0    24.5   108.0     2.0   \n",
       "\n",
       "      LBXGLT  LBXIN  \n",
       "2273    73.0   6.53  \n",
       "2274   208.0  13.02  \n",
       "2275   124.0  21.41  \n",
       "2276   108.0   4.99  \n",
       "2277   108.0   3.76  "
      ]
     },
     "execution_count": 8,
     "metadata": {},
     "output_type": "execute_result"
    }
   ],
   "source": [
    "df.tail()"
   ]
  },
  {
   "cell_type": "markdown",
   "id": "44e32505",
   "metadata": {},
   "source": [
    "Appling the command \"shape\" in order to see the datasize (Columns and rows)"
   ]
  },
  {
   "cell_type": "code",
   "execution_count": 12,
   "id": "3ceb229a",
   "metadata": {},
   "outputs": [
    {
     "data": {
      "text/plain": [
       "(2278, 10)"
      ]
     },
     "execution_count": 12,
     "metadata": {},
     "output_type": "execute_result"
    }
   ],
   "source": [
    "df.shape"
   ]
  },
  {
   "cell_type": "markdown",
   "id": "cc7d6efe",
   "metadata": {},
   "source": [
    "2778 rows and 10 columns"
   ]
  },
  {
   "cell_type": "markdown",
   "id": "2250bd41",
   "metadata": {},
   "source": [
    "Checking missing values:"
   ]
  },
  {
   "cell_type": "code",
   "execution_count": 15,
   "id": "c4995067",
   "metadata": {},
   "outputs": [
    {
     "name": "stdout",
     "output_type": "stream",
     "text": [
      "SEQN         0\n",
      "age_group    0\n",
      "RIDAGEYR     0\n",
      "RIAGENDR     0\n",
      "PAQ605       0\n",
      "BMXBMI       0\n",
      "LBXGLU       0\n",
      "DIQ010       0\n",
      "LBXGLT       0\n",
      "LBXIN        0\n",
      "dtype: int64\n"
     ]
    }
   ],
   "source": [
    "missing_values = df.isnull().sum()\n",
    "print(missing_values)"
   ]
  },
  {
   "cell_type": "markdown",
   "id": "35de4672",
   "metadata": {},
   "source": [
    "Checking the columns name. This is also useful to copy and paste the column name in order to code something related to."
   ]
  },
  {
   "cell_type": "code",
   "execution_count": 17,
   "id": "5a7a2cb4",
   "metadata": {},
   "outputs": [
    {
     "data": {
      "text/plain": [
       "Index(['SEQN', 'age_group', 'RIDAGEYR', 'RIAGENDR', 'PAQ605', 'BMXBMI',\n",
       "       'LBXGLU', 'DIQ010', 'LBXGLT', 'LBXIN'],\n",
       "      dtype='object')"
      ]
     },
     "execution_count": 17,
     "metadata": {},
     "output_type": "execute_result"
    }
   ],
   "source": [
    "df.columns"
   ]
  },
  {
   "cell_type": "markdown",
   "id": "ec01818b",
   "metadata": {},
   "source": [
    "### Exploratory data analysis"
   ]
  },
  {
   "cell_type": "markdown",
   "id": "d001c410",
   "metadata": {},
   "source": [
    "Lets start exploring the unique values and also values count in the column \"age_group\" which is dttype = object and categorical"
   ]
  },
  {
   "cell_type": "code",
   "execution_count": 19,
   "id": "9e5e93b1",
   "metadata": {},
   "outputs": [
    {
     "data": {
      "text/plain": [
       "Adult     1914\n",
       "Senior     364\n",
       "Name: age_group, dtype: int64"
      ]
     },
     "execution_count": 19,
     "metadata": {},
     "output_type": "execute_result"
    }
   ],
   "source": [
    "df[\"age_group\"].unique()\n",
    "df['age_group'].value_counts()"
   ]
  },
  {
   "cell_type": "code",
   "execution_count": 20,
   "id": "a0444460",
   "metadata": {},
   "outputs": [
    {
     "data": {
      "text/html": [
       "<div>\n",
       "<style scoped>\n",
       "    .dataframe tbody tr th:only-of-type {\n",
       "        vertical-align: middle;\n",
       "    }\n",
       "\n",
       "    .dataframe tbody tr th {\n",
       "        vertical-align: top;\n",
       "    }\n",
       "\n",
       "    .dataframe thead th {\n",
       "        text-align: right;\n",
       "    }\n",
       "</style>\n",
       "<table border=\"1\" class=\"dataframe\">\n",
       "  <thead>\n",
       "    <tr style=\"text-align: right;\">\n",
       "      <th></th>\n",
       "      <th>SEQN</th>\n",
       "      <th>RIDAGEYR</th>\n",
       "      <th>RIAGENDR</th>\n",
       "      <th>PAQ605</th>\n",
       "      <th>BMXBMI</th>\n",
       "      <th>LBXGLU</th>\n",
       "      <th>DIQ010</th>\n",
       "      <th>LBXGLT</th>\n",
       "      <th>LBXIN</th>\n",
       "    </tr>\n",
       "  </thead>\n",
       "  <tbody>\n",
       "    <tr>\n",
       "      <th>count</th>\n",
       "      <td>2278.000000</td>\n",
       "      <td>2278.000000</td>\n",
       "      <td>2278.000000</td>\n",
       "      <td>2278.000000</td>\n",
       "      <td>2278.000000</td>\n",
       "      <td>2278.000000</td>\n",
       "      <td>2278.000000</td>\n",
       "      <td>2278.000000</td>\n",
       "      <td>2278.000000</td>\n",
       "    </tr>\n",
       "    <tr>\n",
       "      <th>mean</th>\n",
       "      <td>78691.853819</td>\n",
       "      <td>41.795874</td>\n",
       "      <td>1.511414</td>\n",
       "      <td>1.822651</td>\n",
       "      <td>27.955180</td>\n",
       "      <td>99.553117</td>\n",
       "      <td>2.016242</td>\n",
       "      <td>114.978929</td>\n",
       "      <td>11.834794</td>\n",
       "    </tr>\n",
       "    <tr>\n",
       "      <th>std</th>\n",
       "      <td>2921.365151</td>\n",
       "      <td>20.156111</td>\n",
       "      <td>0.499979</td>\n",
       "      <td>0.398918</td>\n",
       "      <td>7.248962</td>\n",
       "      <td>17.889834</td>\n",
       "      <td>0.185556</td>\n",
       "      <td>47.061239</td>\n",
       "      <td>9.718812</td>\n",
       "    </tr>\n",
       "    <tr>\n",
       "      <th>min</th>\n",
       "      <td>73564.000000</td>\n",
       "      <td>12.000000</td>\n",
       "      <td>1.000000</td>\n",
       "      <td>1.000000</td>\n",
       "      <td>14.500000</td>\n",
       "      <td>63.000000</td>\n",
       "      <td>1.000000</td>\n",
       "      <td>40.000000</td>\n",
       "      <td>0.140000</td>\n",
       "    </tr>\n",
       "    <tr>\n",
       "      <th>25%</th>\n",
       "      <td>76171.750000</td>\n",
       "      <td>24.000000</td>\n",
       "      <td>1.000000</td>\n",
       "      <td>2.000000</td>\n",
       "      <td>22.800000</td>\n",
       "      <td>91.000000</td>\n",
       "      <td>2.000000</td>\n",
       "      <td>87.000000</td>\n",
       "      <td>5.860000</td>\n",
       "    </tr>\n",
       "    <tr>\n",
       "      <th>50%</th>\n",
       "      <td>78749.000000</td>\n",
       "      <td>41.000000</td>\n",
       "      <td>2.000000</td>\n",
       "      <td>2.000000</td>\n",
       "      <td>26.800000</td>\n",
       "      <td>97.000000</td>\n",
       "      <td>2.000000</td>\n",
       "      <td>105.000000</td>\n",
       "      <td>9.040000</td>\n",
       "    </tr>\n",
       "    <tr>\n",
       "      <th>75%</th>\n",
       "      <td>81213.500000</td>\n",
       "      <td>58.000000</td>\n",
       "      <td>2.000000</td>\n",
       "      <td>2.000000</td>\n",
       "      <td>31.200000</td>\n",
       "      <td>104.000000</td>\n",
       "      <td>2.000000</td>\n",
       "      <td>130.000000</td>\n",
       "      <td>14.440000</td>\n",
       "    </tr>\n",
       "    <tr>\n",
       "      <th>max</th>\n",
       "      <td>83727.000000</td>\n",
       "      <td>80.000000</td>\n",
       "      <td>2.000000</td>\n",
       "      <td>7.000000</td>\n",
       "      <td>70.100000</td>\n",
       "      <td>405.000000</td>\n",
       "      <td>3.000000</td>\n",
       "      <td>604.000000</td>\n",
       "      <td>102.290000</td>\n",
       "    </tr>\n",
       "  </tbody>\n",
       "</table>\n",
       "</div>"
      ],
      "text/plain": [
       "               SEQN     RIDAGEYR     RIAGENDR       PAQ605       BMXBMI  \\\n",
       "count   2278.000000  2278.000000  2278.000000  2278.000000  2278.000000   \n",
       "mean   78691.853819    41.795874     1.511414     1.822651    27.955180   \n",
       "std     2921.365151    20.156111     0.499979     0.398918     7.248962   \n",
       "min    73564.000000    12.000000     1.000000     1.000000    14.500000   \n",
       "25%    76171.750000    24.000000     1.000000     2.000000    22.800000   \n",
       "50%    78749.000000    41.000000     2.000000     2.000000    26.800000   \n",
       "75%    81213.500000    58.000000     2.000000     2.000000    31.200000   \n",
       "max    83727.000000    80.000000     2.000000     7.000000    70.100000   \n",
       "\n",
       "            LBXGLU       DIQ010       LBXGLT        LBXIN  \n",
       "count  2278.000000  2278.000000  2278.000000  2278.000000  \n",
       "mean     99.553117     2.016242   114.978929    11.834794  \n",
       "std      17.889834     0.185556    47.061239     9.718812  \n",
       "min      63.000000     1.000000    40.000000     0.140000  \n",
       "25%      91.000000     2.000000    87.000000     5.860000  \n",
       "50%      97.000000     2.000000   105.000000     9.040000  \n",
       "75%     104.000000     2.000000   130.000000    14.440000  \n",
       "max     405.000000     3.000000   604.000000   102.290000  "
      ]
     },
     "execution_count": 20,
     "metadata": {},
     "output_type": "execute_result"
    }
   ],
   "source": [
    "df.describe()"
   ]
  },
  {
   "cell_type": "markdown",
   "id": "b714dbb4",
   "metadata": {},
   "source": [
    "Appying correlation matrix to see if we find high correlation positive or negative between the variables\n",
    "Note that: So far we will look just very high correlation (close to 1 or -1)"
   ]
  },
  {
   "cell_type": "code",
   "execution_count": 22,
   "id": "b7faa26e",
   "metadata": {},
   "outputs": [
    {
     "data": {
      "text/html": [
       "<div>\n",
       "<style scoped>\n",
       "    .dataframe tbody tr th:only-of-type {\n",
       "        vertical-align: middle;\n",
       "    }\n",
       "\n",
       "    .dataframe tbody tr th {\n",
       "        vertical-align: top;\n",
       "    }\n",
       "\n",
       "    .dataframe thead th {\n",
       "        text-align: right;\n",
       "    }\n",
       "</style>\n",
       "<table border=\"1\" class=\"dataframe\">\n",
       "  <thead>\n",
       "    <tr style=\"text-align: right;\">\n",
       "      <th></th>\n",
       "      <th>SEQN</th>\n",
       "      <th>RIDAGEYR</th>\n",
       "      <th>RIAGENDR</th>\n",
       "      <th>PAQ605</th>\n",
       "      <th>BMXBMI</th>\n",
       "      <th>LBXGLU</th>\n",
       "      <th>DIQ010</th>\n",
       "      <th>LBXGLT</th>\n",
       "      <th>LBXIN</th>\n",
       "    </tr>\n",
       "  </thead>\n",
       "  <tbody>\n",
       "    <tr>\n",
       "      <th>SEQN</th>\n",
       "      <td>1.000000</td>\n",
       "      <td>-0.008806</td>\n",
       "      <td>-0.012962</td>\n",
       "      <td>-0.019701</td>\n",
       "      <td>-0.061343</td>\n",
       "      <td>-0.004147</td>\n",
       "      <td>0.014102</td>\n",
       "      <td>0.006036</td>\n",
       "      <td>-0.040028</td>\n",
       "    </tr>\n",
       "    <tr>\n",
       "      <th>RIDAGEYR</th>\n",
       "      <td>-0.008806</td>\n",
       "      <td>1.000000</td>\n",
       "      <td>0.006398</td>\n",
       "      <td>0.025973</td>\n",
       "      <td>0.147163</td>\n",
       "      <td>0.229624</td>\n",
       "      <td>0.049970</td>\n",
       "      <td>0.318044</td>\n",
       "      <td>-0.091879</td>\n",
       "    </tr>\n",
       "    <tr>\n",
       "      <th>RIAGENDR</th>\n",
       "      <td>-0.012962</td>\n",
       "      <td>0.006398</td>\n",
       "      <td>1.000000</td>\n",
       "      <td>0.151076</td>\n",
       "      <td>0.063873</td>\n",
       "      <td>-0.132342</td>\n",
       "      <td>-0.032769</td>\n",
       "      <td>0.017406</td>\n",
       "      <td>-0.016660</td>\n",
       "    </tr>\n",
       "    <tr>\n",
       "      <th>PAQ605</th>\n",
       "      <td>-0.019701</td>\n",
       "      <td>0.025973</td>\n",
       "      <td>0.151076</td>\n",
       "      <td>1.000000</td>\n",
       "      <td>-0.042935</td>\n",
       "      <td>-0.007849</td>\n",
       "      <td>-0.002599</td>\n",
       "      <td>0.060413</td>\n",
       "      <td>0.010011</td>\n",
       "    </tr>\n",
       "    <tr>\n",
       "      <th>BMXBMI</th>\n",
       "      <td>-0.061343</td>\n",
       "      <td>0.147163</td>\n",
       "      <td>0.063873</td>\n",
       "      <td>-0.042935</td>\n",
       "      <td>1.000000</td>\n",
       "      <td>0.208330</td>\n",
       "      <td>0.047133</td>\n",
       "      <td>0.193375</td>\n",
       "      <td>0.552717</td>\n",
       "    </tr>\n",
       "    <tr>\n",
       "      <th>LBXGLU</th>\n",
       "      <td>-0.004147</td>\n",
       "      <td>0.229624</td>\n",
       "      <td>-0.132342</td>\n",
       "      <td>-0.007849</td>\n",
       "      <td>0.208330</td>\n",
       "      <td>1.000000</td>\n",
       "      <td>-0.004427</td>\n",
       "      <td>0.685579</td>\n",
       "      <td>0.211911</td>\n",
       "    </tr>\n",
       "    <tr>\n",
       "      <th>DIQ010</th>\n",
       "      <td>0.014102</td>\n",
       "      <td>0.049970</td>\n",
       "      <td>-0.032769</td>\n",
       "      <td>-0.002599</td>\n",
       "      <td>0.047133</td>\n",
       "      <td>-0.004427</td>\n",
       "      <td>1.000000</td>\n",
       "      <td>0.009796</td>\n",
       "      <td>0.058986</td>\n",
       "    </tr>\n",
       "    <tr>\n",
       "      <th>LBXGLT</th>\n",
       "      <td>0.006036</td>\n",
       "      <td>0.318044</td>\n",
       "      <td>0.017406</td>\n",
       "      <td>0.060413</td>\n",
       "      <td>0.193375</td>\n",
       "      <td>0.685579</td>\n",
       "      <td>0.009796</td>\n",
       "      <td>1.000000</td>\n",
       "      <td>0.217272</td>\n",
       "    </tr>\n",
       "    <tr>\n",
       "      <th>LBXIN</th>\n",
       "      <td>-0.040028</td>\n",
       "      <td>-0.091879</td>\n",
       "      <td>-0.016660</td>\n",
       "      <td>0.010011</td>\n",
       "      <td>0.552717</td>\n",
       "      <td>0.211911</td>\n",
       "      <td>0.058986</td>\n",
       "      <td>0.217272</td>\n",
       "      <td>1.000000</td>\n",
       "    </tr>\n",
       "  </tbody>\n",
       "</table>\n",
       "</div>"
      ],
      "text/plain": [
       "              SEQN  RIDAGEYR  RIAGENDR    PAQ605    BMXBMI    LBXGLU  \\\n",
       "SEQN      1.000000 -0.008806 -0.012962 -0.019701 -0.061343 -0.004147   \n",
       "RIDAGEYR -0.008806  1.000000  0.006398  0.025973  0.147163  0.229624   \n",
       "RIAGENDR -0.012962  0.006398  1.000000  0.151076  0.063873 -0.132342   \n",
       "PAQ605   -0.019701  0.025973  0.151076  1.000000 -0.042935 -0.007849   \n",
       "BMXBMI   -0.061343  0.147163  0.063873 -0.042935  1.000000  0.208330   \n",
       "LBXGLU   -0.004147  0.229624 -0.132342 -0.007849  0.208330  1.000000   \n",
       "DIQ010    0.014102  0.049970 -0.032769 -0.002599  0.047133 -0.004427   \n",
       "LBXGLT    0.006036  0.318044  0.017406  0.060413  0.193375  0.685579   \n",
       "LBXIN    -0.040028 -0.091879 -0.016660  0.010011  0.552717  0.211911   \n",
       "\n",
       "            DIQ010    LBXGLT     LBXIN  \n",
       "SEQN      0.014102  0.006036 -0.040028  \n",
       "RIDAGEYR  0.049970  0.318044 -0.091879  \n",
       "RIAGENDR -0.032769  0.017406 -0.016660  \n",
       "PAQ605   -0.002599  0.060413  0.010011  \n",
       "BMXBMI    0.047133  0.193375  0.552717  \n",
       "LBXGLU   -0.004427  0.685579  0.211911  \n",
       "DIQ010    1.000000  0.009796  0.058986  \n",
       "LBXGLT    0.009796  1.000000  0.217272  \n",
       "LBXIN     0.058986  0.217272  1.000000  "
      ]
     },
     "execution_count": 22,
     "metadata": {},
     "output_type": "execute_result"
    }
   ],
   "source": [
    "df.corr()"
   ]
  },
  {
   "cell_type": "markdown",
   "id": "b88d1997",
   "metadata": {},
   "source": [
    "Renaming columns: According to the source (https://archive.ics.uci.edu/dataset/887/national+health+and+nutrition+health+survey+2013-2014+(nhanes)+age+prediction+subset), we are going to rename some columns in order to easy analyse the informations."
   ]
  },
  {
   "cell_type": "code",
   "execution_count": 28,
   "id": "7159a0b5",
   "metadata": {},
   "outputs": [
    {
     "data": {
      "text/plain": [
       "Index(['SEQN', 'age_group', 'AGE', 'GENDER', 'PAQ605', 'BodyMassIndex',\n",
       "       'GLUCOSEAFAST', 'ISDIABETIC', 'LBXGLT', 'LBXIN'],\n",
       "      dtype='object')"
      ]
     },
     "execution_count": 28,
     "metadata": {},
     "output_type": "execute_result"
    }
   ],
   "source": [
    "df = df.rename(columns={'RIDAGEYR': 'AGE'})\n",
    "df = df.rename(columns={'RIAGENDR': 'GENDER'})\n",
    "df = df.rename(columns={'BMXBMI': 'BODYMASSINDEX'})\n",
    "df = df.rename(columns={'LBXGLU': 'GLUCOSEAFAST'})\n",
    "df = df.rename(columns={'DIQ010': 'ISDIABETIC'})\n",
    "\n",
    "df.columns"
   ]
  },
  {
   "cell_type": "markdown",
   "id": "46383601",
   "metadata": {},
   "source": [
    "Create visualization to undestand the data distribution"
   ]
  },
  {
   "cell_type": "code",
   "execution_count": 26,
   "id": "338bd593",
   "metadata": {},
   "outputs": [
    {
     "data": {
      "image/png": "[encoded data removed]",
      "text/plain": [
       "<Figure size 640x480 with 1 Axes>"
      ]
     },
     "metadata": {},
     "output_type": "display_data"
    }
   ],
   "source": [
    "import matplotlib.pyplot as plt\n",
    "import seaborn as sns \n",
    "\n",
    "# Distribution of Age\n",
    "sns.histplot(df['AGE'], bins=20, kde=True)\n",
    "plt.title(\"Distribution of Age\")\n",
    "plt.xlabel(\"Age\")\n",
    "plt.ylabel(\"Frequency\")\n",
    "plt.show()"
   ]
  },
  {
   "cell_type": "markdown",
   "id": "a18dbb81",
   "metadata": {},
   "source": [
    "Visualizing null values"
   ]
  },
  {
   "cell_type": "code",
   "execution_count": 35,
   "id": "a68ca97a",
   "metadata": {},
   "outputs": [
    {
     "data": {
      "image/png": "[encoded data removed]",
      "text/plain": [
       "<Figure size 2500x1000 with 2 Axes>"
      ]
     },
     "metadata": {},
     "output_type": "display_data"
    }
   ],
   "source": [
    "import missingno as msno\n",
    "ax = msno.matrix(df.sample())"
   ]
  },
  {
   "cell_type": "markdown",
   "id": "2dd99e2e",
   "metadata": {},
   "source": [
    "This plot confirm that the dataset does not have missing values."
   ]
  },
  {
   "cell_type": "markdown",
   "id": "0d914f97",
   "metadata": {},
   "source": [
    "\n",
    "### ONE HOT ENCODING\n",
    "\n",
    "According to my analysis and understandment, I consider the categorical variables in this dataset: 'age_group,' 'RIAGENDR,' 'PAQ605,' and 'DIQ010,'so, I choose to use one-hot encoding. Here's why:\n",
    "\n",
    "age_group: This variable has two categories ('Adult' and 'Senior'). Using one-hot encoding will create two binary columns, and the absence of one category can be represented by the presence of the other. This is more appropriate than assigning arbitrary integers using label encoding.\n",
    "\n",
    "RIAGENDR, PAQ605, DIQ010: These variables are binary categorical, and one-hot encoding is suitable for capturing their individual impact on the model.\n",
    "\n",
    "Advantages of One-Hot Encoding:\n",
    "\n",
    "Avoids introducing ordinality where none exists.\n",
    "Helps the model understand that there is no ordinal relationship between categories.\n",
    "Ensures that each category is treated independently.\n",
    "Therefore, for this dataset, I applied one-hot encoding to 'age_group,' 'RIAGENDR,' 'PAQ605,' and 'DIQ010.' This approach should work well with a variety of machine learning algorithms, providing a more accurate representation of the categorical variables in your model."
   ]
  },
  {
   "cell_type": "code",
   "execution_count": 45,
   "id": "2847dd7a",
   "metadata": {},
   "outputs": [
    {
     "name": "stdout",
     "output_type": "stream",
     "text": [
      "      SEQN   AGE  BodyMassIndex  GLUCOSEAFAST  LBXGLT  LBXIN  age_group_Adult  \\\n",
      "0  73564.0  61.0           35.7         110.0   150.0  14.91                1   \n",
      "1  73568.0  26.0           20.3          89.0    80.0   3.85                1   \n",
      "2  73576.0  16.0           23.2          89.0    68.0   6.14                1   \n",
      "3  73577.0  32.0           28.9         104.0    84.0  16.15                1   \n",
      "4  73580.0  38.0           35.9         103.0    81.0  10.92                1   \n",
      "\n",
      "   age_group_Senior  GENDER_1.0  GENDER_2.0  PAQ605_1.0  PAQ605_2.0  \\\n",
      "0                 0           0           1           0           1   \n",
      "1                 0           0           1           0           1   \n",
      "2                 0           1           0           0           1   \n",
      "3                 0           1           0           0           1   \n",
      "4                 0           0           1           1           0   \n",
      "\n",
      "   PAQ605_7.0  ISDIABETIC_1.0  ISDIABETIC_2.0  ISDIABETIC_3.0  \n",
      "0           0               0               1               0  \n",
      "1           0               0               1               0  \n",
      "2           0               0               1               0  \n",
      "3           0               0               1               0  \n",
      "4           0               0               1               0  \n"
     ]
    }
   ],
   "source": [
    "#Specifying the columns I want to one hot encoding:\n",
    "columns_to_encode = ['age_group', 'GENDER', 'PAQ605', 'ISDIABETIC']\n",
    "\n",
    "#Now, use pd.get_dummies to perform one hot encoding:\n",
    "df_encoded = pd.get_dummies(df, columns = columns_to_encode)\n",
    "\n",
    "#Displaying the first 5 rows of the encoded DataFrame\n",
    "print(df_encoded.head())"
   ]
  },
  {
   "cell_type": "markdown",
   "id": "3840e68b",
   "metadata": {},
   "source": [
    "Note that: The result of the one-hot encoding applied is a new DataFrame where categorical variables have been transformed into binary columns, indicating the presence or absence of each category. Let's interpret the first 5 rows of the encoded DataFrame:\n",
    "\n",
    "SEQN: Respondent Sequence Number.\n",
    "\n",
    "AGE: Respondent's Age.\n",
    "\n",
    "BodyMassIndex: Respondent's Body Mass Index.\n",
    "\n",
    "GLUCOSEAFAST: Respondent's Blood Glucose after fasting.\n",
    "\n",
    "LBXGLT: Respondent's Oral.\n",
    "\n",
    "LBXIN: Respondent's Blood Insulin Levels.\n",
    "\n",
    "age_group_Adult and age_group_Senior: These columns represent the one-hot encoding of the 'age_group' variable. In the first row, 'age_group_Adult' is 1, indicating that the respondent is classified as an adult, and 'age_group_Senior' is 0, indicating that the respondent is not classified as a senior. Similar interpretation for the other rows.\n",
    "\n",
    "GENDER_1.0 and GENDER_2.0: These columns represent the one-hot encoding of the 'RIAGENDR' variable (Gender). 'GENDER_1.0' being 1 indicates male, and 'GENDER_2.0' being 0 indicates not female for the first row. The values are reversed for the second row.\n",
    "\n",
    "PAQ605_1.0, PAQ605_2.0, and PAQ605_7.0: These columns represent the one-hot encoding of the 'PAQ605' variable (engagement in moderate or vigorous-intensity sports, fitness, or recreational activities in the typical week). The values indicate the presence or absence of each category.\n",
    "\n",
    "ISDIABETIC_1.0, ISDIABETIC_2.0, and ISDIABETIC_3.0: These columns represent the one-hot encoding of the 'DIQ010' variable (whether the respondent is diabetic). Similar to the above, the values indicate the presence or absence of each category.\n",
    "\n",
    "For example, in the first row, the respondent is an adult (age_group_Adult=1), male (GENDER_1.0=0, GENDER_2.0=1), engaged in moderate or vigorous-intensity activities (PAQ605_1.0=0, PAQ605_2.0=1), and not diabetic (ISDIABETIC_1.0=0, ISDIABETIC_2.0=1, ISDIABETIC_3.0=0). The other rows follow a similar interpretation based on the values in these columns."
   ]
  },
  {
   "cell_type": "markdown",
   "id": "c95fced3",
   "metadata": {},
   "source": [
    "### SCALING ###"
   ]
  },
  {
   "cell_type": "markdown",
   "id": "83addcc3",
   "metadata": {},
   "source": [
    "In this case we are going to use standard scaling. Standard scaling, also known as z-score normalization, is a process of rescaling the features by removing the mean and scaling to unit variance. This is a good idea for several reasons:\n",
    "\n",
    "Mean Centering: Standard scaling involves subtracting the mean from each data point, which centers the data around zero. This is important for some machine learning algorithms that assume the features are centered.\n",
    "\n",
    "Equal Scale: Scaling to unit variance ensures that all features have the same scale.\n",
    "\n",
    "Sensitive to Outliers: Standard scaling is less sensitive to the influence of outliers compared to other scaling methods. Outliers can have a disproportionate impact on the mean and standard deviation, but their effect is mitigated when scaling to unit variance.\n",
    "Assumption of Normality: Some statistical methods and machine learning algorithms assume that the features are normally distributed. Standard scaling makes the data more Gaussian-like, which can be beneficial for such methods.\n",
    "\n",
    "Below is how you can apply standard scaling."
   ]
  },
  {
   "cell_type": "code",
   "execution_count": 54,
   "id": "2bea6cd2",
   "metadata": {},
   "outputs": [
    {
     "data": {
      "text/html": [
       "<div>\n",
       "<style scoped>\n",
       "    .dataframe tbody tr th:only-of-type {\n",
       "        vertical-align: middle;\n",
       "    }\n",
       "\n",
       "    .dataframe tbody tr th {\n",
       "        vertical-align: top;\n",
       "    }\n",
       "\n",
       "    .dataframe thead th {\n",
       "        text-align: right;\n",
       "    }\n",
       "</style>\n",
       "<table border=\"1\" class=\"dataframe\">\n",
       "  <thead>\n",
       "    <tr style=\"text-align: right;\">\n",
       "      <th></th>\n",
       "      <th>SEQN</th>\n",
       "      <th>AGE</th>\n",
       "      <th>BodyMassIndex</th>\n",
       "      <th>GLUCOSEAFAST</th>\n",
       "      <th>LBXGLT</th>\n",
       "      <th>LBXIN</th>\n",
       "      <th>age_group_Adult</th>\n",
       "      <th>age_group_Senior</th>\n",
       "      <th>GENDER_1.0</th>\n",
       "      <th>GENDER_2.0</th>\n",
       "      <th>PAQ605_1.0</th>\n",
       "      <th>PAQ605_2.0</th>\n",
       "      <th>PAQ605_7.0</th>\n",
       "      <th>ISDIABETIC_1.0</th>\n",
       "      <th>ISDIABETIC_2.0</th>\n",
       "      <th>ISDIABETIC_3.0</th>\n",
       "    </tr>\n",
       "  </thead>\n",
       "  <tbody>\n",
       "    <tr>\n",
       "      <th>0</th>\n",
       "      <td>73564.0</td>\n",
       "      <td>0.952979</td>\n",
       "      <td>1.068639</td>\n",
       "      <td>0.584085</td>\n",
       "      <td>0.744323</td>\n",
       "      <td>0.316487</td>\n",
       "      <td>1</td>\n",
       "      <td>0</td>\n",
       "      <td>0</td>\n",
       "      <td>1</td>\n",
       "      <td>0</td>\n",
       "      <td>1</td>\n",
       "      <td>0</td>\n",
       "      <td>0</td>\n",
       "      <td>1</td>\n",
       "      <td>0</td>\n",
       "    </tr>\n",
       "    <tr>\n",
       "      <th>1</th>\n",
       "      <td>73568.0</td>\n",
       "      <td>-0.783849</td>\n",
       "      <td>-1.056270</td>\n",
       "      <td>-0.590024</td>\n",
       "      <td>-0.743427</td>\n",
       "      <td>-0.821762</td>\n",
       "      <td>1</td>\n",
       "      <td>0</td>\n",
       "      <td>0</td>\n",
       "      <td>1</td>\n",
       "      <td>0</td>\n",
       "      <td>1</td>\n",
       "      <td>0</td>\n",
       "      <td>0</td>\n",
       "      <td>1</td>\n",
       "      <td>0</td>\n",
       "    </tr>\n",
       "    <tr>\n",
       "      <th>2</th>\n",
       "      <td>73576.0</td>\n",
       "      <td>-1.280085</td>\n",
       "      <td>-0.656125</td>\n",
       "      <td>-0.590024</td>\n",
       "      <td>-0.998470</td>\n",
       "      <td>-0.586084</td>\n",
       "      <td>1</td>\n",
       "      <td>0</td>\n",
       "      <td>1</td>\n",
       "      <td>0</td>\n",
       "      <td>0</td>\n",
       "      <td>1</td>\n",
       "      <td>0</td>\n",
       "      <td>0</td>\n",
       "      <td>1</td>\n",
       "      <td>0</td>\n",
       "    </tr>\n",
       "    <tr>\n",
       "      <th>3</th>\n",
       "      <td>73577.0</td>\n",
       "      <td>-0.486107</td>\n",
       "      <td>0.130367</td>\n",
       "      <td>0.248625</td>\n",
       "      <td>-0.658413</td>\n",
       "      <td>0.444103</td>\n",
       "      <td>1</td>\n",
       "      <td>0</td>\n",
       "      <td>1</td>\n",
       "      <td>0</td>\n",
       "      <td>0</td>\n",
       "      <td>1</td>\n",
       "      <td>0</td>\n",
       "      <td>0</td>\n",
       "      <td>1</td>\n",
       "      <td>0</td>\n",
       "    </tr>\n",
       "    <tr>\n",
       "      <th>4</th>\n",
       "      <td>73580.0</td>\n",
       "      <td>-0.188365</td>\n",
       "      <td>1.096235</td>\n",
       "      <td>0.192715</td>\n",
       "      <td>-0.722174</td>\n",
       "      <td>-0.094147</td>\n",
       "      <td>1</td>\n",
       "      <td>0</td>\n",
       "      <td>0</td>\n",
       "      <td>1</td>\n",
       "      <td>1</td>\n",
       "      <td>0</td>\n",
       "      <td>0</td>\n",
       "      <td>0</td>\n",
       "      <td>1</td>\n",
       "      <td>0</td>\n",
       "    </tr>\n",
       "  </tbody>\n",
       "</table>\n",
       "</div>"
      ],
      "text/plain": [
       "      SEQN       AGE  BodyMassIndex  GLUCOSEAFAST    LBXGLT     LBXIN  \\\n",
       "0  73564.0  0.952979       1.068639      0.584085  0.744323  0.316487   \n",
       "1  73568.0 -0.783849      -1.056270     -0.590024 -0.743427 -0.821762   \n",
       "2  73576.0 -1.280085      -0.656125     -0.590024 -0.998470 -0.586084   \n",
       "3  73577.0 -0.486107       0.130367      0.248625 -0.658413  0.444103   \n",
       "4  73580.0 -0.188365       1.096235      0.192715 -0.722174 -0.094147   \n",
       "\n",
       "   age_group_Adult  age_group_Senior  GENDER_1.0  GENDER_2.0  PAQ605_1.0  \\\n",
       "0                1                 0           0           1           0   \n",
       "1                1                 0           0           1           0   \n",
       "2                1                 0           1           0           0   \n",
       "3                1                 0           1           0           0   \n",
       "4                1                 0           0           1           1   \n",
       "\n",
       "   PAQ605_2.0  PAQ605_7.0  ISDIABETIC_1.0  ISDIABETIC_2.0  ISDIABETIC_3.0  \n",
       "0           1           0               0               1               0  \n",
       "1           1           0               0               1               0  \n",
       "2           1           0               0               1               0  \n",
       "3           1           0               0               1               0  \n",
       "4           0           0               0               1               0  "
      ]
     },
     "execution_count": 54,
     "metadata": {},
     "output_type": "execute_result"
    }
   ],
   "source": [
    "#Soecifying the columns to scale: (Reason, they are numerical values)\n",
    "columns_to_scale = ['AGE', 'BodyMassIndex', 'GLUCOSEAFAST', 'LBXGLT', 'LBXIN']\n",
    "\n",
    "#Creaating a StandarScaler object\n",
    "scaler = StandardScaler()\n",
    "\n",
    "# Applying standard scaling to the specified columns\n",
    "df_scaled = df_encoded.copy() # Create a copy to keep the original data\n",
    "df_scaled[columns_to_scale] = scaler.fit_transform(df_encoded[columns_to_scale])\n",
    "\n",
    "# Display first 5 rows of the scaled Dataframe\n",
    "df_scaled.head()"
   ]
  },
  {
   "cell_type": "markdown",
   "id": "2ebfa8c1",
   "metadata": {},
   "source": [
    "Interpreting the result of the standard scaling: \n",
    "Scaled Values: The columns 'AGE', 'BodyMassIndex', 'GLUCOSEAFAST', 'LBXGLT', and 'LBXIN' have been scaled. The values in these columns now have a mean of 0 and a standard deviation of 1.\n",
    "\n",
    "For instance, in the first row, the respondent is an adult (age_group_Adult=1), male (GENDER_1.0=0, GENDER_2.0=1), engaged in moderate or vigorous-intensity activities (PAQ605_1.0=0, PAQ605_2.0=1), and not diabetic (ISDIABETIC_1.0=0, ISDIABETIC_2.0=1, ISDIABETIC_3.0=0). The continuous variables like 'AGE', 'BodyMassIndex', 'GLUCOSEAFAST', 'LBXGLT', and 'LBXIN' have been scaled to have mean 0 and standard deviation 1."
   ]
  },
  {
   "cell_type": "markdown",
   "id": "f9ab7630",
   "metadata": {},
   "source": [
    "### Feature Engenering\n",
    "Let's create a new feature engenering based on Body Mass Index ranges using standard BMI ranges to categorize individuals.\n"
   ]
  },
  {
   "cell_type": "markdown",
   "id": "94789e66",
   "metadata": {},
   "source": [
    "First lets define the ranges of BMI according to an official source: https://www.hse.ie/eng/services/list/2/primarycare/east-coast-diabetes-service/management-of-type-2-diabetes/lifestyle-management/healthy-eating-advice/bmi-chart.pdf\n",
    "\n",
    "Underweight: BMI less than 18.5\n",
    "Normal weight: BMI between 18.5 and 24.9\n",
    "Overweight: BMI between 25 and 29.9\n",
    "Obese: BMI of 30 or greater\n",
    "\n",
    "Now, lets create a new feature named 'BMI_Category based on these BMI Ranges'\n",
    "    "
   ]
  },
  {
   "cell_type": "code",
   "execution_count": 55,
   "id": "4af9b56e",
   "metadata": {},
   "outputs": [
    {
     "data": {
      "text/html": [
       "<div>\n",
       "<style scoped>\n",
       "    .dataframe tbody tr th:only-of-type {\n",
       "        vertical-align: middle;\n",
       "    }\n",
       "\n",
       "    .dataframe tbody tr th {\n",
       "        vertical-align: top;\n",
       "    }\n",
       "\n",
       "    .dataframe thead th {\n",
       "        text-align: right;\n",
       "    }\n",
       "</style>\n",
       "<table border=\"1\" class=\"dataframe\">\n",
       "  <thead>\n",
       "    <tr style=\"text-align: right;\">\n",
       "      <th></th>\n",
       "      <th>BodyMassIndex</th>\n",
       "      <th>BMI_Category</th>\n",
       "    </tr>\n",
       "  </thead>\n",
       "  <tbody>\n",
       "    <tr>\n",
       "      <th>0</th>\n",
       "      <td>35.7</td>\n",
       "      <td>Obese'</td>\n",
       "    </tr>\n",
       "    <tr>\n",
       "      <th>1</th>\n",
       "      <td>20.3</td>\n",
       "      <td>Normal weight</td>\n",
       "    </tr>\n",
       "    <tr>\n",
       "      <th>2</th>\n",
       "      <td>23.2</td>\n",
       "      <td>Normal weight</td>\n",
       "    </tr>\n",
       "    <tr>\n",
       "      <th>3</th>\n",
       "      <td>28.9</td>\n",
       "      <td>Overweight</td>\n",
       "    </tr>\n",
       "    <tr>\n",
       "      <th>4</th>\n",
       "      <td>35.9</td>\n",
       "      <td>Obese'</td>\n",
       "    </tr>\n",
       "  </tbody>\n",
       "</table>\n",
       "</div>"
      ],
      "text/plain": [
       "   BodyMassIndex   BMI_Category\n",
       "0           35.7         Obese'\n",
       "1           20.3  Normal weight\n",
       "2           23.2  Normal weight\n",
       "3           28.9     Overweight\n",
       "4           35.9         Obese'"
      ]
     },
     "execution_count": 55,
     "metadata": {},
     "output_type": "execute_result"
    }
   ],
   "source": [
    "# Creating a new feature called \"BMI_Category\"\n",
    "df['BMI_Category'] = pd.cut(df['BodyMassIndex'], bins=[-float('inf'), 18.5, 24.9, 29.9, float('inf')],\n",
    "                            labels=['Underweight', 'Normal weight', 'Overweight', \"Obese'\"])\n",
    "#Display\n",
    "df[['BodyMassIndex', 'BMI_Category']].head()"
   ]
  },
  {
   "cell_type": "markdown",
   "id": "7383336e",
   "metadata": {},
   "source": [
    "Now, lets plot a bar graph to see this new feature on the dataset and have an idea about the distribution according to the BMI."
   ]
  },
  {
   "cell_type": "code",
   "execution_count": 56,
   "id": "2746be84",
   "metadata": {},
   "outputs": [
    {
     "data": {
      "image/png": "[encoded data removed]",
      "text/plain": [
       "<Figure size 1000x600 with 1 Axes>"
      ]
     },
     "metadata": {},
     "output_type": "display_data"
    }
   ],
   "source": [
    "plt.figure(figsize=(10, 6))\n",
    "sns.countplot(x='BMI_Category', data=df, palette='viridis')\n",
    "\n",
    "# Set plot labels and title\n",
    "plt.xlabel('BMI Category')\n",
    "plt.ylabel('Count')\n",
    "plt.title('Distribution of Individuals Across BMI Categories')\n",
    "\n",
    "# Show the plot\n",
    "plt.show()"
   ]
  },
  {
   "cell_type": "markdown",
   "id": "3279788e",
   "metadata": {},
   "source": [
    "### Applying LDA and PCA"
   ]
  },
  {
   "cell_type": "code",
   "execution_count": 75,
   "id": "e5a22eea",
   "metadata": {},
   "outputs": [
    {
     "data": {
      "image/png": "[encoded data removed]",
      "text/plain": [
       "<Figure size 1000x600 with 1 Axes>"
      ]
     },
     "metadata": {},
     "output_type": "display_data"
    }
   ],
   "source": [
    "# 'X' contains my features and 'y' contains my target variable\n",
    "X = df.drop(['age_group', 'SEQN'], axis=1)\n",
    "y = df['age_group']\n",
    "\n",
    "# Apply LDA with 1 component\n",
    "lda = LinearDiscriminantAnalysis(n_components=1)\n",
    "X_lda = lda.fit_transform(X, y)\n",
    "\n",
    "# Visualize the result\n",
    "plt.figure(figsize=(10, 6))\n",
    "sns.scatterplot(x=X_lda[:, 0], y=np.zeros_like(X_lda[:, 0]), hue=y, palette='viridis', legend='full')\n",
    "plt.title('Linear Discriminant Analysis (LDA)')\n",
    "plt.show()\n"
   ]
  },
  {
   "cell_type": "code",
   "execution_count": 76,
   "id": "fd67531d",
   "metadata": {},
   "outputs": [
    {
     "name": "stdout",
     "output_type": "stream",
     "text": [
      "Explained Variance Ratio:\n",
      "[1.]\n",
      "\n",
      "Coefficients:\n",
      "[[ 0.18911424 -0.23374598  0.89722563 -0.10865678 -0.02987838 -0.25216854\n",
      "   0.01075138  0.0452045   0.        ]]\n",
      "\n",
      "Class Means:\n",
      "[[ 35.78056426   1.51201672   1.8061651   27.96828631  98.64472309\n",
      "    2.01410658 109.99059561  12.10666144   0.        ]\n",
      " [ 73.42582418   1.50824176   1.90934066  27.88626374 104.32967033\n",
      "    2.02747253 141.20879121  10.40524725   1.        ]]\n"
     ]
    }
   ],
   "source": [
    "# 'lda' is the LinearDiscriminantAnalysis model\n",
    "print(\"Explained Variance Ratio:\")\n",
    "print(lda.explained_variance_ratio_)\n",
    "\n",
    "print(\"\\nCoefficients:\")\n",
    "print(lda.coef_)\n",
    "\n",
    "print(\"\\nClass Means:\")\n",
    "print(lda.means_)\n"
   ]
  },
  {
   "cell_type": "markdown",
   "id": "83d530d6",
   "metadata": {},
   "source": [
    "### LDA Result Interpretation\n",
    "Let's interpret the results:\n",
    "\n",
    "Explained Variance Ratio:\n",
    "\n",
    "The explained variance ratio is [1.0]. This means that the first (and only) linear discriminant explains 100% of the variance in the data. This is expected because you set n_components=2, and with only two classes, there can be at most one discriminant.\n",
    "Coefficients:\n",
    "\n",
    "The coefficients represent the weights assigned to each feature for the linear discriminant. In your case, there is only one discriminant, and the coefficients are as follows:\n",
    "AGE: 0.1891\n",
    "GENDER: -0.2337\n",
    "PAQ605: 0.8972\n",
    "BodyMassIndex: -0.1087\n",
    "GLUCOSEAFAST: -0.0299\n",
    "ISDIABETIC: -0.2522\n",
    "LBXGLT: 0.0108\n",
    "LBXIN: 0.0452\n",
    "age_group_encoded: 0.0 (It seems that this feature did not contribute to the discriminant)\n",
    "\n",
    "Class Means:\n",
    "\n",
    "The class means show the mean values of each feature for each class.\n",
    "For the class labeled '0' (presumably 'Adult'):\n",
    "    Mean AGE: 35.78\n",
    "    Mean GENDER: 1.51\n",
    "    Class label (age_group_encoded): 0.0\n",
    "\n",
    "For the class labeled '1' (presumably 'Senior'):\n",
    "    Mean AGE: 73.43\n",
    "    Mean GENDER: 1.51\n",
    "    Class label (age_group_encoded): 1.0\n",
    "    \n",
    "These results indicate how each feature contributes to the separation of the two classes (Adult and Senior) based on the linear discriminant. Positive coefficients indicate a positive correlation with the discriminant, and negative coefficients indicate a negative correlation. The class means provide a sense of the central tendency of each feature for each class."
   ]
  },
  {
   "cell_type": "markdown",
   "id": "e82e8b52",
   "metadata": {},
   "source": [
    "### PCA\n",
    "Now, lets apply PCA to achieve our goal wich is dimesionality reduction for modelling."
   ]
  },
  {
   "cell_type": "code",
   "execution_count": 77,
   "id": "4dc0327a",
   "metadata": {},
   "outputs": [
    {
     "name": "stdout",
     "output_type": "stream",
     "text": [
      "Explained Variance Ratio: [0.25415018 0.18269252 0.13217167 0.11993585 0.10686427 0.09243623\n",
      " 0.05188774 0.03147653]\n",
      "Number of Components Retained: 8\n"
     ]
    }
   ],
   "source": [
    "from sklearn.decomposition import PCA\n",
    "from sklearn.preprocessing import StandardScaler\n",
    "\n",
    "#'X' contains the features\n",
    "X = df.drop(['age_group', 'SEQN'], axis=1)\n",
    "\n",
    "#First lets Standardize the data again\n",
    "scaler = StandardScaler()\n",
    "X_standardized = scaler.fit_transform(X)\n",
    "\n",
    "#Apply PCA\n",
    "pca = PCA(n_components=0.95)  #Choose the number of components that explain 95% of the variance\n",
    "X_pca = pca.fit_transform(X_standardized)\n",
    "\n",
    "#Check the explained variance ratio\n",
    "explained_variance_ratio = pca.explained_variance_ratio_\n",
    "print(\"Explained Variance Ratio:\", explained_variance_ratio)\n",
    "\n",
    "#Check the number of components retained\n",
    "num_components_retained = pca.n_components_\n",
    "print(\"Number of Components Retained:\", num_components_retained)\n"
   ]
  },
  {
   "cell_type": "code",
   "execution_count": 78,
   "id": "896980db",
   "metadata": {},
   "outputs": [
    {
     "data": {
      "image/png": "[encoded data removed]",
      "text/plain": [
       "<Figure size 640x480 with 1 Axes>"
      ]
     },
     "metadata": {},
     "output_type": "display_data"
    }
   ],
   "source": [
    "pca = PCA().fit(X) \n",
    "plt.plot(np.cumsum(pca.explained_variance_ratio_)) \n",
    "plt.xlabel('number of components') \n",
    "plt.ylabel('cumulative explained variance'); "
   ]
  },
  {
   "cell_type": "markdown",
   "id": "70ebb3cb",
   "metadata": {},
   "source": [
    "Note that: In this case study, n_components=0.95 means PCA will use enough components to explain 95% of the variance in the data and after applying PCA, X_pca contains the transformed features with reduced dimensionality. You can then use this reduced dataset for modeling."
   ]
  },
  {
   "cell_type": "markdown",
   "id": "81bb6d32",
   "metadata": {},
   "source": [
    "### PCA INTERPRATATION\n",
    "The result of PCA provides information about the proportion of variance explained by each principal component and helps to determine the number of components retained. Let's interpret the PCA result:\n",
    "\n",
    "Explained Variance Ratio:\n",
    "\n",
    "The explained variance ratio for each principal component indicates the proportion of the total variance in the original data that is explained by that component.\n",
    "In this case, the first principal component (PC1) explains approximately 25.4% of the variance, PC2 explains 18.3%, and so on.\n",
    "Collectively, the eight retained components explain a total of 85.7% of the variance in the data. This means that by using these eight components, you capture a substantial portion of the information present in the original dataset.\n",
    "Number of Components Retained:\n",
    "\n",
    "The number of components retained (8 in this case) indicates the reduced dimensionality of the dataset after applying PCA.\n",
    "Retaining a sufficient number of components is a trade-off between preserving information and reducing dimensionality.\n",
    "Interpretation:\n",
    "\n",
    "PCA helps in reducing the dimensionality of the dataset while retaining a significant amount of information.\n",
    "The first few principal components capture the most variation in the data, and as we move down the list, each subsequent component explains a smaller proportion of the remaining variance.\n",
    "The choice of the number of components retained depends on your specific objectives. In your case, retaining 8 components might strike a balance between reducing dimensionality and preserving a substantial amount of information.\n",
    "When applying PCA for dimensionality reduction, you can now use X_pca (the dataset with reduced dimensions) for subsequent modeling tasks. Keep in mind that the exact interpretation may depend on the specific context and goals of your analysis."
   ]
  },
  {
   "cell_type": "markdown",
   "id": "48236780",
   "metadata": {},
   "source": [
    "### MACHINE LEARNING: Classification with Random Forest"
   ]
  },
  {
   "cell_type": "code",
   "execution_count": 88,
   "id": "35aea7b8",
   "metadata": {},
   "outputs": [
    {
     "name": "stdout",
     "output_type": "stream",
     "text": [
      "Best Hyperparameters: {'max_depth': None, 'min_samples_leaf': 1, 'min_samples_split': 2, 'n_estimators': 50}\n",
      "Accuracy on Test Set: 1.0000\n",
      "Classification Report:\n",
      "               precision    recall  f1-score   support\n",
      "\n",
      "       Adult       1.00      1.00      1.00       382\n",
      "      Senior       1.00      1.00      1.00        74\n",
      "\n",
      "    accuracy                           1.00       456\n",
      "   macro avg       1.00      1.00      1.00       456\n",
      "weighted avg       1.00      1.00      1.00       456\n",
      "\n"
     ]
    }
   ],
   "source": [
    "from sklearn.ensemble import RandomForestClassifier\n",
    "from sklearn.model_selection import train_test_split, GridSearchCV\n",
    "from sklearn.metrics import accuracy_score, classification_report\n",
    "\n",
    "# Assuming 'X' contains your features and 'y' contains your target variable\n",
    "X = df.drop(['age_group', 'SEQN'], axis=1)\n",
    "y = df['age_group']\n",
    "\n",
    "# Step 2: Train-Test Split\n",
    "X_train, X_test, y_train, y_test = train_test_split(X, y, test_size=0.2, random_state=42)\n",
    "\n",
    "# Step 3: Model Training\n",
    "rf_classifier = RandomForestClassifier(random_state=42)\n",
    "rf_classifier.fit(X_train, y_train)\n",
    "\n",
    "# Step 4: Hyperparameter Tuning with GridSearchCV\n",
    "param_grid = {\n",
    "    'n_estimators': [50, 100, 200],\n",
    "    'max_depth': [None, 10, 20],\n",
    "    'min_samples_split': [2, 5, 10],\n",
    "    'min_samples_leaf': [1, 2, 4]\n",
    "}\n",
    "\n",
    "grid_search = GridSearchCV(rf_classifier, param_grid, cv=3, scoring='accuracy', n_jobs=-1)\n",
    "grid_search.fit(X_train, y_train)\n",
    "\n",
    "# Best hyperparameters\n",
    "best_params = grid_search.best_params_\n",
    "\n",
    "# Step 5: Model Evaluation\n",
    "best_rf_classifier = grid_search.best_estimator_\n",
    "y_pred = best_rf_classifier.predict(X_test)\n",
    "\n",
    "# Print accuracy and classification report\n",
    "accuracy = accuracy_score(y_test, y_pred)\n",
    "classification_rep = classification_report(y_test, y_pred)\n",
    "\n",
    "print(f'Best Hyperparameters: {best_params}')\n",
    "print(f'Accuracy on Test Set: {accuracy:.4f}')\n",
    "print('Classification Report:\\n', classification_rep)\n"
   ]
  },
  {
   "cell_type": "markdown",
   "id": "d7f80b80",
   "metadata": {},
   "source": [
    "### RANDOM FOREST MODEL - RESULT INTERPRETATION\n",
    "The results provided indicate that my Random Forest Classifier model achieved perfect accuracy on the test set, which means it correctly classified all instances. Let's break down the key information:\n",
    "\n",
    "#### Best Hyperparameters:\n",
    "\n",
    "These are the hyperparameters that resulted in the best performance during the hyperparameter tuning process:\n",
    "max_depth: No maximum depth for the trees.\n",
    "min_samples_leaf: Each leaf has at least 1 sample.\n",
    "min_samples_split: A node is split if it has at least 2 samples.\n",
    "n_estimators: The number of trees in the forest is 50.\n",
    "\n",
    "#### Accuracy on Test Set:\n",
    "\n",
    "The model achieved perfect accuracy of 1.0000 on the test set, meaning it correctly predicted the age group for every instance.\n",
    "\n",
    "#### Classification Report:\n",
    "\n",
    "Precision, recall, and F1-score are provided for each class (Adult and Senior).\n",
    "For both classes, precision, recall, and F1-score are 1.00, indicating perfect performance.\n",
    "The support column shows the number of instances for each class in the test set.\n",
    "The weighted average considers the imbalance in class distribution and provides an overall performance metric.\n",
    "Macro and Weighted Averages:\n",
    "\n",
    "Both macro and weighted averages of precision, recall, and F1-score are 1.00, indicating overall perfect performance across classes.\n",
    "\n",
    "#### SUMMARIZING:\n",
    "In summary, your Random Forest Classifier, with the specified hyperparameters, performed exceptionally well on the given classification task. It achieved perfect accuracy and demonstrated strong precision, recall, and F1-score for both classes. These results suggest that the model is highly effective in distinguishing between Adult and Senior age groups in your dataset."
   ]
  },
  {
   "cell_type": "markdown",
   "id": "b017ae3b",
   "metadata": {},
   "source": [
    "### OBS: To the the next task I am getting many, many errors which I cant solve. For this reasong I will do againt the machine learning model.\n"
   ]
  },
  {
   "cell_type": "markdown",
   "id": "9d6b11b4",
   "metadata": {},
   "source": []
  },
  {
   "cell_type": "code",
   "execution_count": 90,
   "id": "14a3f437",
   "metadata": {},
   "outputs": [],
   "source": [
    "#Importing again the libraries\n",
    "import pandas as pd\n",
    "from sklearn.model_selection import train_test_split, cross_val_score, StratifiedKFold\n",
    "from sklearn.ensemble import RandomForestClassifier\n",
    "from sklearn.metrics import accuracy_score, classification_report\n",
    "import matplotlib.pyplot as plt\n",
    "import seaborn as sns"
   ]
  },
  {
   "cell_type": "code",
   "execution_count": 91,
   "id": "81fcfbea",
   "metadata": {},
   "outputs": [],
   "source": [
    "#Defining features and target variables\n",
    "X = df.drop(['age_group', 'SEQN'], axis=1)\n",
    "y = df['age_group']"
   ]
  },
  {
   "cell_type": "markdown",
   "id": "78fbe6fb",
   "metadata": {},
   "source": [
    "### Train test split and K-fold Cross-Validation"
   ]
  },
  {
   "cell_type": "code",
   "execution_count": 96,
   "id": "8c0a4e14",
   "metadata": {},
   "outputs": [
    {
     "name": "stdout",
     "output_type": "stream",
     "text": [
      "Accuracy Scores (K-fold Cross-Validation): [1. 1. 1. 1. 1.]\n"
     ]
    }
   ],
   "source": [
    "\n",
    "# Split the data into training and testing sets\n",
    "X_train, X_test, y_train, y_test = train_test_split(X, y, test_size=0.2, random_state=42)\n",
    "\n",
    "# Initialize the model RandomForestClassifier\n",
    "model = RandomForestClassifier(random_state=42)\n",
    "\n",
    "# Set up K-fold cross-validation\n",
    "k_folds = 5\n",
    "cv = StratifiedKFold(n_splits=k_folds, shuffle=True, random_state=42)\n",
    "\n",
    "# Perform K-fold cross-validation and collect accuracy scores\n",
    "accuracy_scores = cross_val_score(model, X_train, y_train, cv=cv, scoring='accuracy')\n",
    "\n",
    "# Print K-fold cross-validation accuracy scores\n",
    "print(f'Accuracy Scores (K-fold Cross-Validation): {accuracy_scores}')"
   ]
  },
  {
   "cell_type": "code",
   "execution_count": 98,
   "id": "e5494e5f",
   "metadata": {},
   "outputs": [
    {
     "data": {
      "image/png": "[encoded data removed]",
      "text/plain": [
       "<Figure size 800x600 with 1 Axes>"
      ]
     },
     "metadata": {},
     "output_type": "display_data"
    }
   ],
   "source": [
    "#Plot the distribution of accuracy scores\n",
    "plt.figure(figsize=(8, 6))\n",
    "sns.boxplot(x=accuracy_scores)\n",
    "plt.xlabel('Accuracy Score')\n",
    "plt.title('Distribution of K-fold Cross-Validation Accuracy Scores')\n",
    "plt.show()"
   ]
  },
  {
   "cell_type": "markdown",
   "id": "e1cc7334",
   "metadata": {},
   "source": [
    "### Explaining the result: Accuracy Scores (K-fold Cross-Validation): [1. 1. 1. 1. 1.]\n",
    "\n",
    "The accuracy scores provided for K-fold cross-validation are all 1.0, indicating a perfect accuracy for each fold. \n",
    "\n",
    "Here's what this means:\n",
    "\n",
    "#### Accuracy Score:\n",
    "The accuracy score is a measure of the model's correctness in predicting the target variable. It is calculated as the ratio of correctly predicted instances to the total instances.\n",
    "A score of 1.0 means that this model achieved 100% accuracy on each fold of the cross-validation. In other words, for every data split used in cross-validation, the model correctly predicted the target variable for all instances.\n",
    "\n",
    "#### Possible Implications:\n",
    "The model might be overfitting the training data, capturing noise or specific patterns that are not generalizable to unseen data.\n",
    "It could be an indication of a small or easy-to-separate dataset.\n",
    "\n",
    "#### Considerations:\n",
    "While achieving high accuracy is desirable, it's important to evaluate the model's performance on a separate test set (not used during training or cross-validation) to ensure generalization to new, unseen data.\n",
    "Other metrics, such as precision, recall, and F1-score, may provide a more comprehensive view, especially in imbalanced datasets or when dealing with specific classification challenges."
   ]
  },
  {
   "cell_type": "markdown",
   "id": "1fd62a68",
   "metadata": {},
   "source": [
    "#### Confusion Matrix"
   ]
  },
  {
   "cell_type": "code",
   "execution_count": 100,
   "id": "dfae7f28",
   "metadata": {},
   "outputs": [
    {
     "data": {
      "image/png": "[encoded data removed]",
      "text/plain": [
       "<Figure size 800x600 with 1 Axes>"
      ]
     },
     "metadata": {},
     "output_type": "display_data"
    }
   ],
   "source": [
    "conf_matrix = confusion_matrix(y_test, y_pred)\n",
    "\n",
    "#plotting\n",
    "plt.figure(figsize=(8, 6))\n",
    "sns.heatmap(conf_matrix, annot=True, fmt='d', cmap='Blues', cbar=False)\n",
    "plt.xlabel('Predicted Labels')\n",
    "plt.ylabel('True Labels')\n",
    "plt.title('Confusion Matrix')\n",
    "plt.show()"
   ]
  },
  {
   "cell_type": "markdown",
   "id": "85262637",
   "metadata": {},
   "source": [
    "### SINCE OUR RANDOM FOREST MODEL SHOWS TO BE VERY CONSISTENT, LETS COMPARE IT WITH ANOTHER MODEL\n",
    "\n",
    "My idea is compare the Random Forest Model with  a SVM (Support Vector Machine) Model and display a bar plot to to visualize and dicuss the statistical understanding:"
   ]
  },
  {
   "cell_type": "code",
   "execution_count": 103,
   "id": "7fb2b428",
   "metadata": {},
   "outputs": [
    {
     "data": {
      "image/png": "[encoded data removed]",
      "text/plain": [
       "<Figure size 1000x600 with 1 Axes>"
      ]
     },
     "metadata": {},
     "output_type": "display_data"
    }
   ],
   "source": [
    "from sklearn.svm import SVC\n",
    "from sklearn.model_selection import cross_val_score\n",
    "import matplotlib.pyplot as plt\n",
    "\n",
    "# Initialize the SVM model\n",
    "svm_model = SVC(random_state=42)\n",
    "\n",
    "# Set up K-fold cross-validation for SVM\n",
    "svm_accuracy_scores = cross_val_score(svm_model, X_train, y_train, cv=cv, scoring='accuracy')\n",
    "\n",
    "# Define models and their accuracy scores\n",
    "models = ['Random Forest', 'Support Vector Machine']\n",
    "accuracy_scores = [accuracy_scores.mean(), svm_accuracy_scores.mean()]\n",
    "\n",
    "# Plotting the bar chart\n",
    "plt.figure(figsize=(10, 6))\n",
    "plt.bar(models, accuracy_scores, color=['blue', 'green'])\n",
    "plt.ylim(0.8, 1.0)\n",
    "plt.ylabel('Accuracy')\n",
    "plt.title('Comparison of ML Modeling Outcomes')\n",
    "plt.show()\n"
   ]
  },
  {
   "cell_type": "markdown",
   "id": "b05a99ef",
   "metadata": {},
   "source": [
    "#### Random Forest and SVM Result's interpratation\n",
    "\n",
    "The comparison of Random Forest and Support Vector Machine (SVM) accuracy scores provides insights into the performance of these models on your dataset.\n",
    "\n",
    "Random Forest (RF):\n",
    "\n",
    "Accuracy: 1.0 (or 100%)\n",
    "Interpretation: The Random Forest model achieved perfect accuracy on this dataset, indicating that it correctly predicted the target variable for all instances in the test set. This could be due to the nature of your data or the suitability of the Random Forest algorithm for this problem.\n",
    "Support Vector Machine (SVM):\n",
    "\n",
    "Accuracy: Approximately 0.972 (or 97.2%)\n",
    "Interpretation: The SVM model achieved a high accuracy, but not perfect like the Random Forest. The slightly lower accuracy might indicate that SVM had some difficulty correctly classifying a small portion of instances compared to the Random Forest.\n",
    "Comparison:\n",
    "\n",
    "Both models demonstrate high accuracy, suggesting that they are effective for your dataset.\n",
    "Random Forest achieved perfect accuracy, which might be considered overfitting, especially if the dataset is not very large.\n",
    "SVM, with a slightly lower accuracy, still performed very well and might generalize better to new, unseen data.\n",
    "\n",
    "Consideration:\n",
    "\n",
    "As the dataset is relatively small, achieving perfect accuracy might indicate potential overfitting.\n",
    "SVM, with high accuracy, might be a good alternative if generalization is a priority."
   ]
  },
  {
   "cell_type": "code",
   "execution_count": null,
   "id": "7d74d781",
   "metadata": {},
   "outputs": [],
   "source": []
  }
 ],
 "metadata": {
  "kernelspec": {
   "display_name": "Python 3 (ipykernel)",
   "language": "python",
   "name": "python3"
  },
  "language_info": {
   "codemirror_mode": {
    "name": "ipython",
    "version": 3
   },
   "file_extension": ".py",
   "mimetype": "text/x-python",
   "name": "python",
   "nbconvert_exporter": "python",
   "pygments_lexer": "ipython3",
   "version": "3.11.4"
  }
 },
 "nbformat": 4,
 "nbformat_minor": 5
}
